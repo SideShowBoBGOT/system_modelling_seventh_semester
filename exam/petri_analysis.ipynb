{
 "cells": [
  {
   "cell_type": "code",
   "execution_count": 11,
   "id": "f9b5d4d6",
   "metadata": {},
   "outputs": [],
   "source": [
    "import attr\n",
    "from collections.abc import Sequence\n",
    "import numpy as np\n",
    "import numpy.typing as npt \n",
    "\n",
    "@attr.frozen\n",
    "class Arc:\n",
    "    place_index: int\n",
    "    transition_index: int\n",
    "    weight: int = attr.field(default=1)\n",
    "\n",
    "@attr.mutable\n",
    "class TreeNode:\n",
    "    state: npt.NDArray[np.int64]\n",
    "    substates: list['TreeNode'] = attr.field(factory=list)\n",
    "\n",
    "def recurse_tree(\n",
    "    transition_count: int,\n",
    "    input_arcs: Sequence[Arc],\n",
    "    output_arcs: Sequence[Arc],\n",
    "    tree_node: TreeNode,\n",
    "    all_states: list[npt.NDArray[np.int64]]\n",
    "):\n",
    "    for transiton_index in range(transition_count):\n",
    "        def filter_by_transiton_index(arc: Arc):\n",
    "            return arc.transition_index == transiton_index\n",
    "\n",
    "        transiton_index_input_arcs = list(filter(filter_by_transiton_index, input_arcs))\n",
    "        if all(map(lambda arc: tree_node.state[arc.place_index] >= arc.weight, transiton_index_input_arcs)):\n",
    "            \n",
    "            new_state = tree_node.state.copy()\n",
    "\n",
    "            for arc in transiton_index_input_arcs:\n",
    "                new_state[arc.place_index] -= arc.weight\n",
    "\n",
    "            for arc in filter(filter_by_transiton_index, output_arcs):\n",
    "                new_state[arc.place_index] += arc.weight\n",
    "\n",
    "            if all(map(lambda state: not np.array_equal(new_state, state), all_states)):\n",
    "                all_states.append(new_state)\n",
    "                new_tree_node = TreeNode(new_state)\n",
    "                tree_node.substates.append(new_tree_node)\n",
    "                recurse_tree(transition_count, input_arcs, output_arcs, new_tree_node, all_states)\n",
    "\n",
    "TreeNodeTuple = tuple[npt.NDArray[np.int64], list['TreeNodeTuple']]\n",
    "\n",
    "def tree_node_to_tuple(tree_node: TreeNode) -> TreeNodeTuple:\n",
    "    tree_node_tuple: TreeNodeTuple = (tree_node.state, [])\n",
    "    for substate in tree_node.substates:\n",
    "        tree_node_tuple[1].append(tree_node_to_tuple(substate))\n",
    "    return tree_node_tuple"
   ]
  },
  {
   "cell_type": "code",
   "execution_count": 12,
   "id": "e1073042",
   "metadata": {},
   "outputs": [
    {
     "name": "stdout",
     "output_type": "stream",
     "text": [
      "(array([3, 3, 0, 3]),\n",
      " [(array([2, 2, 1, 3]),\n",
      "   [(array([1, 1, 2, 3]),\n",
      "     [(array([0, 0, 3, 3]),\n",
      "       [(array([1, 0, 2, 5]),\n",
      "         [(array([2, 0, 1, 7]), [(array([3, 0, 0, 9]), [])]),\n",
      "          (array([1, 1, 0, 4]),\n",
      "           [(array([0, 0, 1, 4]), [(array([1, 0, 0, 6]), [])])])]),\n",
      "        (array([0, 1, 1, 2]), [])]),\n",
      "      (array([2, 1, 1, 5]), [(array([3, 1, 0, 7]), [])]),\n",
      "      (array([1, 2, 0, 2]), [])]),\n",
      "    (array([3, 2, 0, 5]), [])])])\n"
     ]
    }
   ],
   "source": [
    "from pprint import pprint\n",
    "transition_count = 3\n",
    "root_node = TreeNode(np.array([3, 3, 0, 3]))\n",
    "input_arcs: list[Arc] = [Arc(0, 0), Arc(1, 0), Arc(2, 1), Arc(2, 2, 2), Arc(3, 2)]\n",
    "output_arcs = [Arc(0, 1), Arc(1, 2), Arc(2, 0), Arc(3, 1, 2)]\n",
    "all_states: list[npt.NDArray[np.int64]] = [root_node.state]\n",
    "recurse_tree(transition_count, input_arcs, output_arcs, root_node, all_states)\n",
    "root_node_tuple = tree_node_to_tuple(root_node)\n",
    "pprint(root_node_tuple)"
   ]
  },
  {
   "cell_type": "code",
   "execution_count": 13,
   "id": "de8186ae",
   "metadata": {},
   "outputs": [
    {
     "data": {
      "text/plain": [
       "array([[-1.,  1.,  0.],\n",
       "       [-1.,  0.,  1.],\n",
       "       [ 1., -1., -1.],\n",
       "       [ 0.,  1., -1.]])"
      ]
     },
     "execution_count": 13,
     "metadata": {},
     "output_type": "execute_result"
    }
   ],
   "source": [
    "import scipy\n",
    "\n",
    "input_arcs_tuples = [[arc.place_index, arc.transition_index] for arc in input_arcs]\n",
    "output_arcs_tuples = [[arc.place_index, arc.transition_index] for arc in output_arcs]\n",
    "\n",
    "input_arcs_array = np.array(input_arcs_tuples)\n",
    "output_arcs_array = np.array(output_arcs_tuples)\n",
    "\n",
    "a_minus = np.zeros((len(root_node.state), transition_count))\n",
    "a_plus = np.zeros((len(root_node.state), transition_count))\n",
    "\n",
    "a_minus[tuple(input_arcs_array.T)] = 1\n",
    "a_plus[tuple(output_arcs_array.T)] = 1\n",
    "\n",
    "a = a_plus - a_minus\n",
    "a"
   ]
  },
  {
   "cell_type": "code",
   "execution_count": 14,
   "id": "5fafb080e3f9b73c",
   "metadata": {
    "ExecuteTime": {
     "end_time": "2024-12-09T21:33:48.402630Z",
     "start_time": "2024-12-09T21:33:48.396431Z"
    },
    "collapsed": false
   },
   "outputs": [
    {
     "data": {
      "text/plain": [
       "array([], shape=(3, 0), dtype=float64)"
      ]
     },
     "execution_count": 14,
     "metadata": {},
     "output_type": "execute_result"
    }
   ],
   "source": [
    "t_invariants = scipy.linalg.null_space(a)\n",
    "t_invariants"
   ]
  },
  {
   "cell_type": "code",
   "execution_count": 15,
   "id": "5cc208b746d86628",
   "metadata": {
    "ExecuteTime": {
     "end_time": "2024-12-09T21:34:07.087515Z",
     "start_time": "2024-12-09T21:34:07.082509Z"
    },
    "collapsed": false
   },
   "outputs": [
    {
     "data": {
      "text/plain": [
       "array([[-5.77350269e-01],\n",
       "       [ 5.77350269e-01],\n",
       "       [ 1.11022302e-16],\n",
       "       [ 5.77350269e-01]])"
      ]
     },
     "execution_count": 15,
     "metadata": {},
     "output_type": "execute_result"
    }
   ],
   "source": [
    "# Vectors w (консервативність)\n",
    "s_invariants = scipy.linalg.null_space(a.T)\n",
    "s_invariants"
   ]
  }
 ],
 "metadata": {
  "kernelspec": {
   "display_name": "base",
   "language": "python",
   "name": "python3"
  },
  "language_info": {
   "codemirror_mode": {
    "name": "ipython",
    "version": 3
   },
   "file_extension": ".py",
   "mimetype": "text/x-python",
   "name": "python",
   "nbconvert_exporter": "python",
   "pygments_lexer": "ipython3",
   "version": "3.12.2"
  }
 },
 "nbformat": 4,
 "nbformat_minor": 5
}
