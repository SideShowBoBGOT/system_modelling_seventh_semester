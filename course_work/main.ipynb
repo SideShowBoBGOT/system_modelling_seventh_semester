{
 "cells": [
  {
   "cell_type": "code",
   "execution_count": 105,
   "metadata": {},
   "outputs": [],
   "source": [
    "import pandas as pd\n",
    "import matplotlib.pyplot as plt\n",
    "import numpy as np"
   ]
  },
  {
   "cell_type": "code",
   "execution_count": 106,
   "metadata": {},
   "outputs": [
    {
     "data": {
      "text/html": [
       "<div>\n",
       "<style scoped>\n",
       "    .dataframe tbody tr th:only-of-type {\n",
       "        vertical-align: middle;\n",
       "    }\n",
       "\n",
       "    .dataframe tbody tr th {\n",
       "        vertical-align: top;\n",
       "    }\n",
       "\n",
       "    .dataframe thead th {\n",
       "        text-align: right;\n",
       "    }\n",
       "</style>\n",
       "<table border=\"1\" class=\"dataframe\">\n",
       "  <thead>\n",
       "    <tr style=\"text-align: right;\">\n",
       "      <th></th>\n",
       "      <th>runNumber</th>\n",
       "      <th>timePoint</th>\n",
       "      <th>diskLoad</th>\n",
       "      <th>ioChannelLoad</th>\n",
       "      <th>processorsLoad</th>\n",
       "      <th>totalWaitAllocate</th>\n",
       "      <th>useOfPage</th>\n",
       "    </tr>\n",
       "  </thead>\n",
       "  <tbody>\n",
       "    <tr>\n",
       "      <th>0</th>\n",
       "      <td>0</td>\n",
       "      <td>3.000000</td>\n",
       "      <td>0.000000</td>\n",
       "      <td>0.000000</td>\n",
       "      <td>0.000000</td>\n",
       "      <td>0.0</td>\n",
       "      <td>0.0</td>\n",
       "    </tr>\n",
       "    <tr>\n",
       "      <th>1</th>\n",
       "      <td>0</td>\n",
       "      <td>3.000000</td>\n",
       "      <td>0.000000</td>\n",
       "      <td>0.000000</td>\n",
       "      <td>0.000000</td>\n",
       "      <td>0.0</td>\n",
       "      <td>58.0</td>\n",
       "    </tr>\n",
       "    <tr>\n",
       "      <th>2</th>\n",
       "      <td>0</td>\n",
       "      <td>3.000000</td>\n",
       "      <td>0.000000</td>\n",
       "      <td>0.000000</td>\n",
       "      <td>4.918975</td>\n",
       "      <td>0.0</td>\n",
       "      <td>58.0</td>\n",
       "    </tr>\n",
       "    <tr>\n",
       "      <th>3</th>\n",
       "      <td>0</td>\n",
       "      <td>5.042720</td>\n",
       "      <td>0.000000</td>\n",
       "      <td>0.000000</td>\n",
       "      <td>2.926382</td>\n",
       "      <td>0.0</td>\n",
       "      <td>58.0</td>\n",
       "    </tr>\n",
       "    <tr>\n",
       "      <th>4</th>\n",
       "      <td>0</td>\n",
       "      <td>9.215264</td>\n",
       "      <td>0.000000</td>\n",
       "      <td>0.000000</td>\n",
       "      <td>1.601357</td>\n",
       "      <td>0.0</td>\n",
       "      <td>58.0</td>\n",
       "    </tr>\n",
       "    <tr>\n",
       "      <th>...</th>\n",
       "      <td>...</td>\n",
       "      <td>...</td>\n",
       "      <td>...</td>\n",
       "      <td>...</td>\n",
       "      <td>...</td>\n",
       "      <td>...</td>\n",
       "      <td>...</td>\n",
       "    </tr>\n",
       "    <tr>\n",
       "      <th>2370288</th>\n",
       "      <td>3</td>\n",
       "      <td>399996.092150</td>\n",
       "      <td>0.005368</td>\n",
       "      <td>0.002141</td>\n",
       "      <td>1.429980</td>\n",
       "      <td>0.0</td>\n",
       "      <td>40.0</td>\n",
       "    </tr>\n",
       "    <tr>\n",
       "      <th>2370289</th>\n",
       "      <td>3</td>\n",
       "      <td>399998.000000</td>\n",
       "      <td>0.005368</td>\n",
       "      <td>0.002141</td>\n",
       "      <td>1.429973</td>\n",
       "      <td>0.0</td>\n",
       "      <td>40.0</td>\n",
       "    </tr>\n",
       "    <tr>\n",
       "      <th>2370290</th>\n",
       "      <td>3</td>\n",
       "      <td>399998.000000</td>\n",
       "      <td>0.005368</td>\n",
       "      <td>0.002141</td>\n",
       "      <td>1.429973</td>\n",
       "      <td>0.0</td>\n",
       "      <td>96.0</td>\n",
       "    </tr>\n",
       "    <tr>\n",
       "      <th>2370291</th>\n",
       "      <td>3</td>\n",
       "      <td>399998.000000</td>\n",
       "      <td>0.005368</td>\n",
       "      <td>0.002141</td>\n",
       "      <td>1.429990</td>\n",
       "      <td>0.0</td>\n",
       "      <td>96.0</td>\n",
       "    </tr>\n",
       "    <tr>\n",
       "      <th>2370292</th>\n",
       "      <td>3</td>\n",
       "      <td>399998.603005</td>\n",
       "      <td>0.005368</td>\n",
       "      <td>0.002141</td>\n",
       "      <td>1.429987</td>\n",
       "      <td>0.0</td>\n",
       "      <td>96.0</td>\n",
       "    </tr>\n",
       "  </tbody>\n",
       "</table>\n",
       "<p>2370293 rows × 7 columns</p>\n",
       "</div>"
      ],
      "text/plain": [
       "         runNumber      timePoint  diskLoad  ioChannelLoad  processorsLoad  \\\n",
       "0                0       3.000000  0.000000       0.000000        0.000000   \n",
       "1                0       3.000000  0.000000       0.000000        0.000000   \n",
       "2                0       3.000000  0.000000       0.000000        4.918975   \n",
       "3                0       5.042720  0.000000       0.000000        2.926382   \n",
       "4                0       9.215264  0.000000       0.000000        1.601357   \n",
       "...            ...            ...       ...            ...             ...   \n",
       "2370288          3  399996.092150  0.005368       0.002141        1.429980   \n",
       "2370289          3  399998.000000  0.005368       0.002141        1.429973   \n",
       "2370290          3  399998.000000  0.005368       0.002141        1.429973   \n",
       "2370291          3  399998.000000  0.005368       0.002141        1.429990   \n",
       "2370292          3  399998.603005  0.005368       0.002141        1.429987   \n",
       "\n",
       "         totalWaitAllocate  useOfPage  \n",
       "0                      0.0        0.0  \n",
       "1                      0.0       58.0  \n",
       "2                      0.0       58.0  \n",
       "3                      0.0       58.0  \n",
       "4                      0.0       58.0  \n",
       "...                    ...        ...  \n",
       "2370288                0.0       40.0  \n",
       "2370289                0.0       40.0  \n",
       "2370290                0.0       96.0  \n",
       "2370291                0.0       96.0  \n",
       "2370292                0.0       96.0  \n",
       "\n",
       "[2370293 rows x 7 columns]"
      ]
     },
     "execution_count": 106,
     "metadata": {},
     "output_type": "execute_result"
    }
   ],
   "source": [
    "common_props_path = 'commonProps.csv'\n",
    "common_props_raw: pd.DataFrame = pd.read_csv(common_props_path)\n",
    "common_props_raw"
   ]
  },
  {
   "cell_type": "code",
   "execution_count": 107,
   "metadata": {},
   "outputs": [
    {
     "data": {
      "text/plain": [
       "runNumber              int64\n",
       "timePoint            float64\n",
       "diskLoad             float64\n",
       "ioChannelLoad        float64\n",
       "processorsLoad       float64\n",
       "totalWaitAllocate    float64\n",
       "useOfPage            float64\n",
       "dtype: object"
      ]
     },
     "execution_count": 107,
     "metadata": {},
     "output_type": "execute_result"
    }
   ],
   "source": [
    "common_props_raw.dtypes"
   ]
  },
  {
   "cell_type": "code",
   "execution_count": 108,
   "metadata": {},
   "outputs": [
    {
     "data": {
      "text/html": [
       "<div>\n",
       "<style scoped>\n",
       "    .dataframe tbody tr th:only-of-type {\n",
       "        vertical-align: middle;\n",
       "    }\n",
       "\n",
       "    .dataframe tbody tr th {\n",
       "        vertical-align: top;\n",
       "    }\n",
       "\n",
       "    .dataframe thead th {\n",
       "        text-align: right;\n",
       "    }\n",
       "</style>\n",
       "<table border=\"1\" class=\"dataframe\">\n",
       "  <thead>\n",
       "    <tr style=\"text-align: right;\">\n",
       "      <th></th>\n",
       "      <th>runNumber</th>\n",
       "      <th>timePoint</th>\n",
       "      <th>timeInSystem</th>\n",
       "    </tr>\n",
       "  </thead>\n",
       "  <tbody>\n",
       "    <tr>\n",
       "      <th>0</th>\n",
       "      <td>0</td>\n",
       "      <td>14.388110</td>\n",
       "      <td>4.388110</td>\n",
       "    </tr>\n",
       "    <tr>\n",
       "      <th>1</th>\n",
       "      <td>0</td>\n",
       "      <td>17.815221</td>\n",
       "      <td>14.815221</td>\n",
       "    </tr>\n",
       "    <tr>\n",
       "      <th>2</th>\n",
       "      <td>0</td>\n",
       "      <td>22.200705</td>\n",
       "      <td>6.200705</td>\n",
       "    </tr>\n",
       "    <tr>\n",
       "      <th>3</th>\n",
       "      <td>0</td>\n",
       "      <td>29.437687</td>\n",
       "      <td>8.437687</td>\n",
       "    </tr>\n",
       "    <tr>\n",
       "      <th>4</th>\n",
       "      <td>0</td>\n",
       "      <td>37.674123</td>\n",
       "      <td>8.674123</td>\n",
       "    </tr>\n",
       "    <tr>\n",
       "      <th>...</th>\n",
       "      <td>...</td>\n",
       "      <td>...</td>\n",
       "      <td>...</td>\n",
       "    </tr>\n",
       "    <tr>\n",
       "      <th>228808</th>\n",
       "      <td>3</td>\n",
       "      <td>399951.853032</td>\n",
       "      <td>8.853032</td>\n",
       "    </tr>\n",
       "    <tr>\n",
       "      <th>228809</th>\n",
       "      <td>3</td>\n",
       "      <td>399955.134196</td>\n",
       "      <td>6.134196</td>\n",
       "    </tr>\n",
       "    <tr>\n",
       "      <th>228810</th>\n",
       "      <td>3</td>\n",
       "      <td>399978.848136</td>\n",
       "      <td>6.848136</td>\n",
       "    </tr>\n",
       "    <tr>\n",
       "      <th>228811</th>\n",
       "      <td>3</td>\n",
       "      <td>399979.523648</td>\n",
       "      <td>16.523648</td>\n",
       "    </tr>\n",
       "    <tr>\n",
       "      <th>228812</th>\n",
       "      <td>3</td>\n",
       "      <td>399989.074890</td>\n",
       "      <td>9.074890</td>\n",
       "    </tr>\n",
       "  </tbody>\n",
       "</table>\n",
       "<p>228813 rows × 3 columns</p>\n",
       "</div>"
      ],
      "text/plain": [
       "        runNumber      timePoint  timeInSystem\n",
       "0               0      14.388110      4.388110\n",
       "1               0      17.815221     14.815221\n",
       "2               0      22.200705      6.200705\n",
       "3               0      29.437687      8.437687\n",
       "4               0      37.674123      8.674123\n",
       "...           ...            ...           ...\n",
       "228808          3  399951.853032      8.853032\n",
       "228809          3  399955.134196      6.134196\n",
       "228810          3  399978.848136      6.848136\n",
       "228811          3  399979.523648     16.523648\n",
       "228812          3  399989.074890      9.074890\n",
       "\n",
       "[228813 rows x 3 columns]"
      ]
     },
     "execution_count": 108,
     "metadata": {},
     "output_type": "execute_result"
    }
   ],
   "source": [
    "time_in_system_file_path = 'timeInSystem.csv'\n",
    "time_in_system_raw: pd.DataFrame = pd.read_csv(time_in_system_file_path)\n",
    "time_in_system_raw"
   ]
  },
  {
   "cell_type": "code",
   "execution_count": 109,
   "metadata": {},
   "outputs": [
    {
     "data": {
      "text/plain": [
       "runNumber         int64\n",
       "timePoint       float64\n",
       "timeInSystem    float64\n",
       "dtype: object"
      ]
     },
     "execution_count": 109,
     "metadata": {},
     "output_type": "execute_result"
    }
   ],
   "source": [
    "time_in_system_raw.dtypes"
   ]
  },
  {
   "cell_type": "code",
   "execution_count": 110,
   "metadata": {},
   "outputs": [
    {
     "data": {
      "text/html": [
       "<div>\n",
       "<style scoped>\n",
       "    .dataframe tbody tr th:only-of-type {\n",
       "        vertical-align: middle;\n",
       "    }\n",
       "\n",
       "    .dataframe tbody tr th {\n",
       "        vertical-align: top;\n",
       "    }\n",
       "\n",
       "    .dataframe thead th {\n",
       "        text-align: right;\n",
       "    }\n",
       "</style>\n",
       "<table border=\"1\" class=\"dataframe\">\n",
       "  <thead>\n",
       "    <tr style=\"text-align: right;\">\n",
       "      <th></th>\n",
       "      <th>runNumber</th>\n",
       "      <th>timePoint</th>\n",
       "      <th>timeWaitAllocate</th>\n",
       "    </tr>\n",
       "  </thead>\n",
       "  <tbody>\n",
       "    <tr>\n",
       "      <th>0</th>\n",
       "      <td>0</td>\n",
       "      <td>81.318693</td>\n",
       "      <td>2.318693</td>\n",
       "    </tr>\n",
       "    <tr>\n",
       "      <th>1</th>\n",
       "      <td>0</td>\n",
       "      <td>347.054666</td>\n",
       "      <td>2.054666</td>\n",
       "    </tr>\n",
       "    <tr>\n",
       "      <th>2</th>\n",
       "      <td>0</td>\n",
       "      <td>354.186224</td>\n",
       "      <td>2.186224</td>\n",
       "    </tr>\n",
       "    <tr>\n",
       "      <th>3</th>\n",
       "      <td>0</td>\n",
       "      <td>381.717378</td>\n",
       "      <td>2.717378</td>\n",
       "    </tr>\n",
       "    <tr>\n",
       "      <th>4</th>\n",
       "      <td>0</td>\n",
       "      <td>1049.441759</td>\n",
       "      <td>5.441759</td>\n",
       "    </tr>\n",
       "    <tr>\n",
       "      <th>...</th>\n",
       "      <td>...</td>\n",
       "      <td>...</td>\n",
       "      <td>...</td>\n",
       "    </tr>\n",
       "    <tr>\n",
       "      <th>6417</th>\n",
       "      <td>3</td>\n",
       "      <td>399578.718021</td>\n",
       "      <td>3.718021</td>\n",
       "    </tr>\n",
       "    <tr>\n",
       "      <th>6418</th>\n",
       "      <td>3</td>\n",
       "      <td>399618.996488</td>\n",
       "      <td>0.996488</td>\n",
       "    </tr>\n",
       "    <tr>\n",
       "      <th>6419</th>\n",
       "      <td>3</td>\n",
       "      <td>399620.579699</td>\n",
       "      <td>11.579699</td>\n",
       "    </tr>\n",
       "    <tr>\n",
       "      <th>6420</th>\n",
       "      <td>3</td>\n",
       "      <td>399650.941269</td>\n",
       "      <td>4.941269</td>\n",
       "    </tr>\n",
       "    <tr>\n",
       "      <th>6421</th>\n",
       "      <td>3</td>\n",
       "      <td>399914.165490</td>\n",
       "      <td>2.165490</td>\n",
       "    </tr>\n",
       "  </tbody>\n",
       "</table>\n",
       "<p>6422 rows × 3 columns</p>\n",
       "</div>"
      ],
      "text/plain": [
       "      runNumber      timePoint  timeWaitAllocate\n",
       "0             0      81.318693          2.318693\n",
       "1             0     347.054666          2.054666\n",
       "2             0     354.186224          2.186224\n",
       "3             0     381.717378          2.717378\n",
       "4             0    1049.441759          5.441759\n",
       "...         ...            ...               ...\n",
       "6417          3  399578.718021          3.718021\n",
       "6418          3  399618.996488          0.996488\n",
       "6419          3  399620.579699         11.579699\n",
       "6420          3  399650.941269          4.941269\n",
       "6421          3  399914.165490          2.165490\n",
       "\n",
       "[6422 rows x 3 columns]"
      ]
     },
     "execution_count": 110,
     "metadata": {},
     "output_type": "execute_result"
    }
   ],
   "source": [
    "time_wait_allocate_file_path = 'timeWaitAllocate.csv'\n",
    "time_wait_allocate_raw: pd.DataFrame = pd.read_csv(time_wait_allocate_file_path, header=0)\n",
    "time_wait_allocate_raw"
   ]
  },
  {
   "cell_type": "code",
   "execution_count": 111,
   "metadata": {},
   "outputs": [
    {
     "data": {
      "text/plain": [
       "runNumber             int64\n",
       "timePoint           float64\n",
       "timeWaitAllocate    float64\n",
       "dtype: object"
      ]
     },
     "execution_count": 111,
     "metadata": {},
     "output_type": "execute_result"
    }
   ],
   "source": [
    "time_wait_allocate_raw.dtypes"
   ]
  },
  {
   "cell_type": "code",
   "execution_count": 112,
   "metadata": {},
   "outputs": [],
   "source": [
    "import numpy as np\n",
    "from array import array\n",
    "from typing import Sequence\n",
    "\n",
    "\n",
    "def calculate_means_through_time(time_points: pd.Series, values: pd.Series) -> array[float]:\n",
    "    prev_time_point = time_points.iloc[0]\n",
    "    delay_sum = 0.0\n",
    "    value_sum = 0.0\n",
    "\n",
    "    values_through_time = array('d')\n",
    "\n",
    "    for time_point, value in zip(time_points.iloc[1:], values):\n",
    "        delay = time_point - prev_time_point\n",
    "        prev_time_point = time_point\n",
    "        delay_sum += delay\n",
    "        value_sum += value * delay\n",
    "        values_through_time.append(value_sum / delay_sum)\n",
    "\n",
    "    return values_through_time\n",
    "\n",
    "def calculate_stddevs_through_time(time_points: pd.Series, values: pd.Series, means: array[float]) -> array[float]:\n",
    "    prev_time_point = time_points.iloc[0]\n",
    "    delay_sum = 0.0\n",
    "    value_sum = 0.0\n",
    "\n",
    "    stddevs_through_time: array[float] = array('d')\n",
    "\n",
    "    for time_point, value, mean in zip(time_points.iloc[1:], values, means):\n",
    "        delay = time_point - prev_time_point\n",
    "        prev_time_point = time_point\n",
    "        delay_sum += delay\n",
    "        value_sum += ((value - mean) ** 2) * delay\n",
    "        stddevs_through_time.append(np.sqrt(value_sum / delay_sum))\n",
    "\n",
    "    return stddevs_through_time"
   ]
  },
  {
   "cell_type": "code",
   "execution_count": 113,
   "metadata": {},
   "outputs": [],
   "source": [
    "import attr\n",
    "\n",
    "@attr.frozen\n",
    "class PropertyMeanStdDev:\n",
    "    mean: array[float]\n",
    "    stdDev: array[float]\n",
    "\n",
    "def calc_mean_stddev_through_time(time_points: pd.Series, props: pd.Series) -> PropertyMeanStdDev:\n",
    "    means = calculate_means_through_time(time_points, props)\n",
    "    return PropertyMeanStdDev(\n",
    "        means,\n",
    "        calculate_stddevs_through_time(time_points, props, means)\n",
    "    )"
   ]
  },
  {
   "cell_type": "code",
   "execution_count": 114,
   "metadata": {},
   "outputs": [],
   "source": [
    "from collections import deque\n",
    "\n",
    "time_points_mat: deque[Sequence[float]] = deque()\n",
    "disk_load_mat: deque[PropertyMeanStdDev] = deque()\n",
    "io_channel_load_mat: deque[PropertyMeanStdDev] = deque()\n",
    "processors_load_mat: deque[PropertyMeanStdDev] = deque()\n",
    "use_of_page_mat: deque[PropertyMeanStdDev] = deque()\n",
    "total_wait_allocate_mat: deque[PropertyMeanStdDev] = deque()\n",
    "\n",
    "time_in_system_mat: deque[PropertyMeanStdDev] = deque()\n",
    "time_wait_allocate_mat: deque[PropertyMeanStdDev] = deque()\n",
    "time_in_system_time_points_mat: deque[PropertyMeanStdDev] = deque()\n",
    "time_wait_allocate_time_points_mat: deque[PropertyMeanStdDev] = deque()"
   ]
  },
  {
   "cell_type": "code",
   "execution_count": 115,
   "metadata": {},
   "outputs": [
    {
     "data": {
      "text/plain": [
       "4"
      ]
     },
     "execution_count": 115,
     "metadata": {},
     "output_type": "execute_result"
    }
   ],
   "source": [
    "total_runs_num = len(common_props_raw['runNumber'].value_counts())\n",
    "total_runs_num"
   ]
  },
  {
   "cell_type": "code",
   "execution_count": 116,
   "metadata": {},
   "outputs": [
    {
     "name": "stderr",
     "output_type": "stream",
     "text": [
      "/tmp/ipykernel_83473/689705320.py:18: RuntimeWarning: invalid value encountered in scalar divide\n",
      "  values_through_time.append(value_sum / delay_sum)\n",
      "/tmp/ipykernel_83473/2703673564.py:3: FutureWarning: The behavior of `series[i:j]` with an integer-dtype index is deprecated. In a future version, this will be treated as *label-based* indexing, consistent with e.g. `series[i]` lookups. To retain the old behavior, use `series.iloc[i:j]`. To get the future behavior, use `series.loc[i:j]`.\n",
      "  time_points = common_props_raw_indexed['timePoint'][:-1]\n",
      "/tmp/ipykernel_83473/2703673564.py:9: FutureWarning: The behavior of `series[i:j]` with an integer-dtype index is deprecated. In a future version, this will be treated as *label-based* indexing, consistent with e.g. `series[i]` lookups. To retain the old behavior, use `series.iloc[i:j]`. To get the future behavior, use `series.loc[i:j]`.\n",
      "  time_points_mat.append(time_points[:-1])\n"
     ]
    }
   ],
   "source": [
    "for run_number in range(total_runs_num):\n",
    "    common_props_raw_indexed = common_props_raw[common_props_raw['runNumber'] == run_number]\n",
    "    time_points = common_props_raw_indexed['timePoint'][:-1]\n",
    "    disk_load_mat.append(calc_mean_stddev_through_time(time_points, common_props_raw_indexed['diskLoad']))\n",
    "    io_channel_load_mat.append(calc_mean_stddev_through_time(time_points, common_props_raw_indexed['ioChannelLoad']))\n",
    "    processors_load_mat.append(calc_mean_stddev_through_time(time_points, common_props_raw_indexed['processorsLoad']))\n",
    "    use_of_page_mat.append(calc_mean_stddev_through_time(time_points, common_props_raw_indexed['useOfPage']))\n",
    "    total_wait_allocate_mat.append(calc_mean_stddev_through_time(time_points, common_props_raw_indexed['totalWaitAllocate']))\n",
    "    time_points_mat.append(time_points[:-1])\n",
    "\n",
    "    time_in_system_raw_indexed = time_in_system_raw[time_in_system_raw['runNumber'] == run_number]\n",
    "    time_in_system_time_points = time_in_system_raw_indexed['timePoint']\n",
    "    time_in_system_mat.append(calc_mean_stddev_through_time(time_in_system_time_points, time_in_system_raw_indexed['timeInSystem']))\n",
    "    time_in_system_time_points_mat.append(time_in_system_time_points.iloc[:-1])\n",
    "\n",
    "    time_wait_allocate_raw_indexed = time_wait_allocate_raw[time_wait_allocate_raw['runNumber'] == run_number]\n",
    "    time_wait_allocate_time_points = time_wait_allocate_raw_indexed['timePoint']\n",
    "    time_wait_allocate_mat.append(calc_mean_stddev_through_time(time_wait_allocate_time_points, time_wait_allocate_raw_indexed['timeWaitAllocate']))\n",
    "    time_wait_allocate_time_points_mat.append(time_wait_allocate_time_points.iloc[:-1])"
   ]
  },
  {
   "cell_type": "code",
   "execution_count": 117,
   "metadata": {},
   "outputs": [],
   "source": [
    "from typing import Iterable\n",
    "\n",
    "def plot_matrix(time_points_mat: Iterable[float], value_mat: Iterable[float], ylabel: str):\n",
    "    for run_num, row in enumerate(zip(time_points_mat, value_mat)):\n",
    "        time_points_row = row[0]\n",
    "        value_row = row[1]\n",
    "        plt.plot(time_points_row, value_row, label=f'Run {run_num}')\n",
    "\n",
    "    plt.title(f'{ylabel} vs. TimePoint for Each Run')\n",
    "    plt.xlabel('TimePoint')\n",
    "    plt.ylabel(ylabel)\n",
    "    plt.legend(title='Run Number')\n",
    "    plt.grid(True)\n",
    "    plt.show()\n",
    "\n",
    "def plot_matrix_mean_std_dev(time_points_mat: Sequence[float], value_mat: deque[PropertyMeanStdDev], ylabel: str):\n",
    "    plot_matrix(time_points_mat, (v.mean for v in value_mat), ylabel + 'Mean')\n",
    "    plot_matrix(time_points_mat, (v.stdDev for v in value_mat), ylabel + 'StdDev')"
   ]
  },
  {
   "cell_type": "code",
   "execution_count": 119,
   "metadata": {},
   "outputs": [
    {
     "data": {
      "image/png": "[encoded data removed]",
      "text/plain": [
       "<Figure size 640x480 with 1 Axes>"
      ]
     },
     "metadata": {},
     "output_type": "display_data"
    },
    {
     "data": {
      "image/png": "[encoded data removed]",
      "text/plain": [
       "<Figure size 640x480 with 1 Axes>"
      ]
     },
     "metadata": {},
     "output_type": "display_data"
    }
   ],
   "source": [
    "plot_matrix_mean_std_dev(time_points_mat, disk_load_mat, 'DiskLoad')"
   ]
  },
  {
   "cell_type": "code",
   "execution_count": 58,
   "metadata": {},
   "outputs": [],
   "source": [
    "transit_period_start_at = 600000"
   ]
  },
  {
   "cell_type": "code",
   "execution_count": 109,
   "metadata": {},
   "outputs": [],
   "source": []
  },
  {
   "cell_type": "code",
   "execution_count": 110,
   "metadata": {},
   "outputs": [],
   "source": []
  },
  {
   "cell_type": "code",
   "execution_count": null,
   "metadata": {},
   "outputs": [],
   "source": [
    "filtered_data = data[data['timePoint'] > transit_period_start_at]"
   ]
  },
  {
   "cell_type": "code",
   "execution_count": 112,
   "metadata": {},
   "outputs": [],
   "source": [
    "def show_hist(data, col_name: str) -> None:\n",
    "    plt.figure(figsize=(10, 6))\n",
    "    plt.hist(data[col_name], bins=50, edgecolor='k', alpha=0.7)\n",
    "    plt.title(f'Histogram of {col_name}')\n",
    "    plt.xlabel(col_name)\n",
    "    plt.ylabel('Frequency')\n",
    "    plt.grid(True)"
   ]
  },
  {
   "cell_type": "code",
   "execution_count": null,
   "metadata": {},
   "outputs": [],
   "source": [
    "show_hist(filtered_data, 'diskLoad')"
   ]
  },
  {
   "cell_type": "code",
   "execution_count": null,
   "metadata": {},
   "outputs": [],
   "source": [
    "show_hist(filtered_data, 'ioChannelLoad')"
   ]
  },
  {
   "cell_type": "code",
   "execution_count": null,
   "metadata": {},
   "outputs": [],
   "source": [
    "show_hist(filtered_data, 'processorsLoad')"
   ]
  },
  {
   "cell_type": "code",
   "execution_count": null,
   "metadata": {},
   "outputs": [],
   "source": [
    "show_hist(filtered_data, 'totalWaitAllocate')"
   ]
  },
  {
   "cell_type": "code",
   "execution_count": null,
   "metadata": {},
   "outputs": [],
   "source": [
    "show_hist(filtered_data, 'useOfPage')"
   ]
  },
  {
   "cell_type": "code",
   "execution_count": 118,
   "metadata": {},
   "outputs": [],
   "source": []
  },
  {
   "cell_type": "code",
   "execution_count": 119,
   "metadata": {},
   "outputs": [],
   "source": [
    "time_in_system_data = time_in_system_raw[time_in_system_raw['timePoint'] > transit_period_start_at]"
   ]
  },
  {
   "cell_type": "code",
   "execution_count": null,
   "metadata": {},
   "outputs": [],
   "source": [
    "show_hist(time_in_system_data, 'timeInSystem')"
   ]
  },
  {
   "cell_type": "code",
   "execution_count": 121,
   "metadata": {},
   "outputs": [],
   "source": []
  },
  {
   "cell_type": "code",
   "execution_count": 122,
   "metadata": {},
   "outputs": [],
   "source": [
    "wait_allocate_data = wait_allocate_raw[wait_allocate_raw['timePoint'] > transit_period_start_at]"
   ]
  },
  {
   "cell_type": "code",
   "execution_count": null,
   "metadata": {},
   "outputs": [],
   "source": [
    "show_hist(wait_allocate_data, 'timeWaitAllocate')"
   ]
  }
 ],
 "metadata": {
  "kernelspec": {
   "display_name": "base",
   "language": "python",
   "name": "python3"
  },
  "language_info": {
   "codemirror_mode": {
    "name": "ipython",
    "version": 3
   },
   "file_extension": ".py",
   "mimetype": "text/x-python",
   "name": "python",
   "nbconvert_exporter": "python",
   "pygments_lexer": "ipython3",
   "version": "3.12.2"
  }
 },
 "nbformat": 4,
 "nbformat_minor": 2
}
